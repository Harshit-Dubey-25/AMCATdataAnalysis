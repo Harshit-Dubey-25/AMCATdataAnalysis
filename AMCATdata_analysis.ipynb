{
  "nbformat": 4,
  "nbformat_minor": 0,
  "metadata": {
    "colab": {
      "provenance": []
    },
    "kernelspec": {
      "name": "python3",
      "display_name": "Python 3"
    },
    "language_info": {
      "name": "python"
    }
  },
  "cells": [
    {
      "cell_type": "code",
      "source": [
        "import pandas as pd\n",
        "\n",
        "df = pd.read_excel('data.xlsx')\n",
        "\n",
        "print(\"Head of the dataframe:\")\n",
        "df.head()"
      ],
      "metadata": {
        "id": "3t_SAVuXxQks"
      },
      "execution_count": null,
      "outputs": []
    },
    {
      "cell_type": "code",
      "source": [
        "print(\"Tail of the dataframe:\")\n",
        "df.tail()"
      ],
      "metadata": {
        "id": "ytVqQPblyYvM"
      },
      "execution_count": null,
      "outputs": []
    },
    {
      "cell_type": "code",
      "source": [
        "print(\"Description of the Dataset:\")\n",
        "df.describe()"
      ],
      "metadata": {
        "id": "UBw8mtEgyZ1d"
      },
      "execution_count": null,
      "outputs": []
    },
    {
      "cell_type": "code",
      "source": [
        "df.info()\n"
      ],
      "metadata": {
        "id": "vCzFB-F_yaKT"
      },
      "execution_count": null,
      "outputs": []
    },
    {
      "cell_type": "code",
      "source": [
        "df.describe()"
      ],
      "metadata": {
        "id": "GQWRSygAyaWC"
      },
      "execution_count": null,
      "outputs": []
    },
    {
      "cell_type": "code",
      "source": [
        "\n",
        "\n",
        "df.dropna(subset=['ComputerScience', 'Designation', 'Salary'], inplace=True)\n",
        "\n",
        "df.drop_duplicates(inplace=True)\n",
        "\n",
        "relevant_columns = ['ComputerScience', 'Designation', 'Salary', '10percentage', '12percentage', 'collegeGPA']\n",
        "df_cleaned = df[relevant_columns].copy()\n",
        "\n",
        "df_cleaned.loc[:, 'Salary'] = pd.to_numeric(df_cleaned['Salary'], errors='coerce')\n",
        "\n",
        "df_cleaned.rename(columns={'10percentage': '10th Percentage', '12percentage': '12th Percentage'}, inplace=True)\n",
        "\n",
        "print(df_cleaned.head())\n"
      ],
      "metadata": {
        "id": "05HN8tGKyr2S"
      },
      "execution_count": null,
      "outputs": []
    },
    {
      "cell_type": "code",
      "source": [
        "import matplotlib.pyplot as plt\n",
        "import seaborn as sns\n",
        "\n",
        "sns.set(style='whitegrid')\n",
        "numerical_cols = df.select_dtypes(include=['float64', 'int64']).columns\n",
        "\n",
        "def univariate_analysis(numerical_data):\n",
        "    for column in numerical_data:\n",
        "        print(\"-\"*8, column, \"-\"*8)\n",
        "        print(\"MEAN: \", numerical_data[column].mean())\n",
        "        print(\"MEDIAN: \", numerical_data[column].median())\n",
        "        print(\"MODE: \", numerical_data[column].mode())\n",
        "        print(\"MIN: \", numerical_data[column].min())\n",
        "        print(\"MAX: \", numerical_data[column].max())\n",
        "        print(\"KURTOSIS: \", numerical_data[column].kurt())\n",
        "        print(\"SKEWNESS: \", numerical_data[column].skew())\n",
        "\n",
        "\n",
        "univariate_analysis(df[[\"Salary\", \"10percentage\", \"12percentage\", \"collegeGPA\"]])\n",
        "\n",
        "for col in numerical_cols:\n",
        "    plt.figure(figsize=(18, 9))\n",
        "\n",
        "    plt.subplot(1, 2, 1)\n",
        "    sns.histplot(df[col], kde=True, bins=30)\n",
        "    plt.title(f'Histogram of {col}')\n",
        "\n",
        "    plt.subplot(1, 2, 2)\n",
        "    sns.boxplot(x=df[col])\n",
        "    plt.title(f'Boxplot of {col}')\n",
        "\n",
        "    plt.tight_layout()\n",
        "    plt.show()\n",
        "\n",
        "categorical_cols = df.select_dtypes(include=['object']).columns\n",
        "\n",
        "for col in categorical_cols:\n",
        "    plt.figure(figsize=(18, 9))\n",
        "    sns.countplot(y=df[col], order=df[col].value_counts().index)\n",
        "    plt.title(f'Countplot of {col}')\n",
        "    plt.tight_layout()\n",
        "    plt.show()\n",
        "\n",
        "print('Univariate analysis completed.')"
      ],
      "metadata": {
        "id": "dG6WKWIgytZH"
      },
      "execution_count": null,
      "outputs": []
    },
    {
      "cell_type": "code",
      "source": [
        "for i, col1 in enumerate(numerical_cols):\n",
        "    for col2 in numerical_cols[i+1:]:\n",
        "        plt.figure(figsize=(18, 9))\n",
        "\n",
        "        plt.subplot(1, 2, 1)\n",
        "        sns.scatterplot(x=df[col1], y=df[col2])\n",
        "        plt.title(f'Scatter Plot of {col1} vs {col2}')\n",
        "\n",
        "        plt.subplot(1, 2, 2)\n",
        "        plt.hexbin(df[col1], df[col2], gridsize=30, cmap='Blues')\n",
        "        plt.colorbar(label='Count')\n",
        "        plt.title(f'Hexbin Plot of {col1} vs {col2}')\n",
        "\n",
        "        plt.tight_layout()\n",
        "        plt.show()\n",
        "\n",
        "sns.pairplot(df[numerical_cols])\n",
        "plt.suptitle('Pair Plot of Numerical Columns', y=1.02)\n",
        "plt.show()\n",
        "\n",
        "for cat_col in categorical_cols:\n",
        "    for num_col in numerical_cols:\n",
        "        plt.figure(figsize=(18, 9))\n",
        "\n",
        "        plt.subplot(1, 3, 1)\n",
        "        sns.swarmplot(x=df[cat_col], y=df[num_col])\n",
        "        plt.title(f'Swarmplot of {cat_col} vs {num_col}')\n",
        "\n",
        "        plt.subplot(1, 3, 2)\n",
        "        sns.boxplot(x=df[cat_col], y=df[num_col])\n",
        "        plt.title(f'Boxplot of {cat_col} vs {num_col}')\n",
        "\n",
        "        plt.subplot(1, 3, 3)\n",
        "        sns.barplot(x=df[cat_col], y=df[num_col])\n",
        "        plt.title(f'Barplot of {cat_col} vs {num_col}')\n",
        "\n",
        "        plt.tight_layout()\n",
        "        plt.show()\n",
        "\n",
        "for i, cat_col1 in enumerate(categorical_cols):\n",
        "    for cat_col2 in categorical_cols[i+1:]:\n",
        "        crosstab = pd.crosstab(df[cat_col1], df[cat_col2])\n",
        "        crosstab.plot(kind='bar', stacked=True, figsize=(10, 6))\n",
        "        plt.title(f'Stacked Bar Plot of {cat_col1} vs {cat_col2}')\n",
        "        plt.ylabel('Count')\n",
        "        plt.tight_layout()\n",
        "        plt.show()\n",
        "\n",
        "print('Bivariate analysis completed.')\n"
      ],
      "metadata": {
        "id": "NEFan_30yxLg"
      },
      "execution_count": null,
      "outputs": []
    },
    {
      "cell_type": "code",
      "execution_count": null,
      "metadata": {
        "colab": {
          "base_uri": "https://localhost:8080/"
        },
        "id": "xvZdDzPdwssJ",
        "outputId": "d877f292-d54a-4945-db0a-41949cf9a1c4"
      },
      "outputs": [
        {
          "output_type": "stream",
          "name": "stdout",
          "text": [
            "Average Salary of relevant job roles: 349102.41\n",
            "Does the average salary fall within the claimed range (250,000 - 300,000)? False\n"
          ]
        }
      ],
      "source": [
        "cs_graduates = df_cleaned[~df_cleaned['ComputerScience'].isna()]\n",
        "\n",
        "roles = ['Programming Analyst', 'Software Engineer', 'Hardware Engineer', 'Associate Engineer']\n",
        "cs_graduates_relevant = cs_graduates[cs_graduates['Designation'].str.contains('|'.join(roles), case=False, na=False)]\n",
        "\n",
        "average_salary = cs_graduates_relevant['Salary'].mean()\n",
        "\n",
        "claim_test = (average_salary >= 250000) and (average_salary <= 300000)\n",
        "\n",
        "print(f\"Average Salary of relevant job roles: {average_salary:.2f}\")\n",
        "print(f\"Does the average salary fall within the claimed range (250,000 - 300,000)? {claim_test}\")\n"
      ]
    },
    {
      "cell_type": "code",
      "source": [
        "import scipy.stats as stats\n",
        "\n",
        "df.dropna(subset=['ComputerScience', 'Designation', 'Salary'], inplace=True)\n",
        "\n",
        "df.drop_duplicates(inplace=True)\n",
        "\n",
        "relevant_columns = ['ComputerScience', 'Designation', 'Salary', '10percentage', '12percentage', 'collegeGPA', 'Gender']\n",
        "df_cleaned = df[relevant_columns].copy()\n",
        "\n",
        "df_cleaned['Salary'] = pd.to_numeric(df_cleaned['Salary'], errors='coerce')\n",
        "\n",
        "print(\"Columns in df_cleaned:\", df_cleaned.columns.tolist())\n",
        "\n",
        "specialization_columns = ['ComputerScience', 'MechanicalEngg', 'ElectricalEngg', 'TelecomEngg', 'CivilEngg']\n",
        "\n",
        "for col in specialization_columns:\n",
        "    if col not in df_cleaned.columns:\n",
        "        df_cleaned[col] = pd.NA\n",
        "\n",
        "print(\"Updated Columns in df_cleaned:\", df_cleaned.columns.tolist())\n",
        "\n",
        "df_specialization = df_cleaned[df_cleaned[specialization_columns].notna().any(axis=1)]\n",
        "\n",
        "def get_specialization(row):\n",
        "    for col in specialization_columns:\n",
        "        if pd.notna(row[col]) and row[col] > -1:\n",
        "            return col\n",
        "    return pd.NA\n",
        "\n",
        "df_specialization['Specialization'] = df_specialization.apply(get_specialization, axis=1)\n",
        "\n",
        "df_specialization.dropna(subset=['Specialization'], inplace=True)\n",
        "\n",
        "contingency_table = pd.crosstab(df_specialization['Gender'], df_specialization['Specialization'])\n",
        "chi2, p, dof, expected = stats.chi2_contingency(contingency_table)\n",
        "\n",
        "p_value = p\n",
        "print(\"Chi-Squared Statistic:\", chi2)\n",
        "print(\"P-Value:\", p_value)\n",
        "\n",
        "plt.figure(figsize=(10, 6))\n",
        "specialization_distribution = pd.crosstab(df_specialization['Specialization'], df_specialization['Gender'])\n",
        "specialization_distribution.plot(kind='bar', stacked=True, figsize=(10, 6))\n",
        "plt.title('Specialization by Gender')\n",
        "plt.xlabel('Specialization')\n",
        "plt.ylabel('Count')\n",
        "plt.legend(title='Gender')\n",
        "plt.tight_layout()\n",
        "plt.show()\n"
      ],
      "metadata": {
        "colab": {
          "base_uri": "https://localhost:8080/",
          "height": 708
        },
        "id": "TPABI7V7zgV4",
        "outputId": "0f53ed58-9668-400b-d1f1-986e1eb02901"
      },
      "execution_count": null,
      "outputs": [
        {
          "output_type": "stream",
          "name": "stdout",
          "text": [
            "Columns in df_cleaned: ['ComputerScience', 'Designation', 'Salary', '10percentage', '12percentage', 'collegeGPA', 'Gender']\n",
            "Updated Columns in df_cleaned: ['ComputerScience', 'Designation', 'Salary', '10percentage', '12percentage', 'collegeGPA', 'Gender', 'MechanicalEngg', 'ElectricalEngg', 'TelecomEngg', 'CivilEngg']\n",
            "Chi-Squared Statistic: 0.0\n",
            "P-Value: 1.0\n"
          ]
        },
        {
          "output_type": "display_data",
          "data": {
            "text/plain": [
              "<Figure size 1000x600 with 0 Axes>"
            ]
          },
          "metadata": {}
        },
        {
          "output_type": "display_data",
          "data": {
            "text/plain": [
              "<Figure size 1000x600 with 1 Axes>"
            ],
            "image/png": "[encoded data removed]"
          },
          "metadata": {}
        }
      ]
    },
    {
      "cell_type": "markdown",
      "source": [
        "# New Section"
      ],
      "metadata": {
        "id": "DnUL1E0xw14m"
      }
    }
  ]
}